{
 "cells": [
  {
   "cell_type": "code",
   "execution_count": 3,
   "metadata": {},
   "outputs": [
    {
     "name": "stdout",
     "output_type": "stream",
     "text": [
      "--2024-08-31 14:19:35--  https://raw.githubusercontent.com/karpathy/char-rnn/master/data/tinyshakespeare/input.txt\n",
      "Resolving raw.githubusercontent.com (raw.githubusercontent.com)... 2606:50c0:8002::154, 2606:50c0:8003::154, 2606:50c0:8001::154, ...\n",
      "Connecting to raw.githubusercontent.com (raw.githubusercontent.com)|2606:50c0:8002::154|:443... connected.\n",
      "HTTP request sent, awaiting response... 200 OK\n",
      "Length: 1115394 (1.1M) [text/plain]\n",
      "Saving to: ‘input.txt’\n",
      "\n",
      "input.txt           100%[===================>]   1.06M   367KB/s    in 3.0s    \n",
      "\n",
      "2024-08-31 14:19:39 (367 KB/s) - ‘input.txt’ saved [1115394/1115394]\n",
      "\n"
     ]
    }
   ],
   "source": [
    "!wget https://raw.githubusercontent.com/karpathy/char-rnn/master/data/tinyshakespeare/input.txt"
   ]
  },
  {
   "cell_type": "code",
   "execution_count": 4,
   "metadata": {},
   "outputs": [],
   "source": [
    "with open(\"input.txt\", \"r\", encoding=\"utf-8\") as f:\n",
    "    text = f.read()"
   ]
  },
  {
   "cell_type": "code",
   "execution_count": 5,
   "metadata": {},
   "outputs": [
    {
     "name": "stdout",
     "output_type": "stream",
     "text": [
      "Length of dataset in characters: 1115394\n"
     ]
    }
   ],
   "source": [
    "print(\"Length of dataset in characters: %d\" % len(text))"
   ]
  },
  {
   "cell_type": "code",
   "execution_count": 6,
   "metadata": {},
   "outputs": [
    {
     "name": "stdout",
     "output_type": "stream",
     "text": [
      "First Citizen:\n",
      "Before we proceed any further, hear me speak.\n",
      "\n",
      "All:\n",
      "Speak, speak.\n",
      "\n",
      "First Citizen:\n",
      "You are all resolved rather to die than to famish?\n",
      "\n",
      "All:\n",
      "Resolved. resolved.\n",
      "\n",
      "First Citizen:\n",
      "First, you know Caius Marcius is chief enemy to the people.\n",
      "\n",
      "All:\n",
      "We know't, we know't.\n",
      "\n",
      "First Citizen:\n",
      "Let us kill him, and we'll have corn at our own price.\n",
      "Is't a verdict?\n",
      "\n",
      "All:\n",
      "No more talking on't; let it be done: away, away!\n",
      "\n",
      "Second Citizen:\n",
      "One word, good citizens.\n",
      "\n",
      "First Citizen:\n",
      "We are accounted poor citizens, the patricians good.\n",
      "What authority surfeits on would relieve us: if they\n",
      "would yield us but the superfluity, while it were\n",
      "wholesome, we might guess they relieved us humanely;\n",
      "but they think we are too dear: the leanness that\n",
      "afflicts us, the object of our misery, is as an\n",
      "inventory to particularise their abundance; our\n",
      "sufferance is a gain to them Let us revenge this with\n",
      "our pikes, ere we become rakes: for the gods know I\n",
      "speak this in hunger for bread, not in thirst for revenge.\n",
      "\n",
      "\n"
     ]
    }
   ],
   "source": [
    "print(text[:1000])"
   ]
  },
  {
   "cell_type": "code",
   "execution_count": 7,
   "metadata": {},
   "outputs": [
    {
     "name": "stdout",
     "output_type": "stream",
     "text": [
      "\n",
      " !$&',-.3:;?ABCDEFGHIJKLMNOPQRSTUVWXYZabcdefghijklmnopqrstuvwxyz\n",
      "65\n"
     ]
    }
   ],
   "source": [
    "chars = sorted(set(text))\n",
    "vocab_size = len(chars)\n",
    "print(\"\".join(chars))\n",
    "print(vocab_size)"
   ]
  },
  {
   "cell_type": "code",
   "execution_count": 8,
   "metadata": {},
   "outputs": [
    {
     "name": "stdout",
     "output_type": "stream",
     "text": [
      "[46, 47, 1, 58, 46, 43, 56, 43]\n",
      "hi there\n"
     ]
    }
   ],
   "source": [
    "s_to_i = {ch: i for i, ch in enumerate(chars)}\n",
    "i_to_s = {i: ch for i, ch in enumerate(chars)}\n",
    "encode = lambda s: list(map(s_to_i.get, s))\n",
    "decode = lambda l: \"\".join(map(i_to_s.get, l))\n",
    "\n",
    "print(encode(\"hi there\"))\n",
    "print(decode(encode(\"hi there\")))"
   ]
  },
  {
   "cell_type": "code",
   "execution_count": 9,
   "metadata": {},
   "outputs": [
    {
     "name": "stdout",
     "output_type": "stream",
     "text": [
      "torch.Size([1115394]) torch.int64\n",
      "tensor([18, 47, 56, 57, 58,  1, 15, 47, 58, 47, 64, 43, 52, 10,  0, 14, 43, 44,\n",
      "        53, 56, 43,  1, 61, 43,  1, 54, 56, 53, 41, 43, 43, 42,  1, 39, 52, 63,\n",
      "         1, 44, 59, 56, 58, 46, 43, 56,  6,  1, 46, 43, 39, 56,  1, 51, 43,  1,\n",
      "        57, 54, 43, 39, 49,  8,  0,  0, 13, 50, 50, 10,  0, 31, 54, 43, 39, 49,\n",
      "         6,  1, 57, 54, 43, 39, 49,  8,  0,  0, 18, 47, 56, 57, 58,  1, 15, 47,\n",
      "        58, 47, 64, 43, 52, 10,  0, 37, 53, 59])\n"
     ]
    }
   ],
   "source": [
    "import torch\n",
    "data = torch.tensor(encode(text), dtype=torch.long)\n",
    "print(data.shape, data.dtype)\n",
    "print(data[:100])"
   ]
  },
  {
   "cell_type": "code",
   "execution_count": 10,
   "metadata": {},
   "outputs": [],
   "source": [
    "n = int(0.9 * len(data))\n",
    "train_data = data[:n]\n",
    "val_data = data[n:]"
   ]
  },
  {
   "cell_type": "code",
   "execution_count": 11,
   "metadata": {},
   "outputs": [
    {
     "data": {
      "text/plain": [
       "tensor([18, 47, 56, 57, 58,  1, 15, 47, 58])"
      ]
     },
     "execution_count": 11,
     "metadata": {},
     "output_type": "execute_result"
    }
   ],
   "source": [
    "block_size = 8\n",
    "train_data[:block_size + 1]"
   ]
  },
  {
   "cell_type": "code",
   "execution_count": 12,
   "metadata": {},
   "outputs": [
    {
     "name": "stdout",
     "output_type": "stream",
     "text": [
      "when input is tensor([18]) the target is: 47\n",
      "when input is tensor([18, 47]) the target is: 56\n",
      "when input is tensor([18, 47, 56]) the target is: 57\n",
      "when input is tensor([18, 47, 56, 57]) the target is: 58\n",
      "when input is tensor([18, 47, 56, 57, 58]) the target is: 1\n",
      "when input is tensor([18, 47, 56, 57, 58,  1]) the target is: 15\n",
      "when input is tensor([18, 47, 56, 57, 58,  1, 15]) the target is: 47\n",
      "when input is tensor([18, 47, 56, 57, 58,  1, 15, 47]) the target is: 58\n"
     ]
    }
   ],
   "source": [
    "x = train_data[:block_size]\n",
    "y = train_data[1:block_size + 1]\n",
    "for t in range(block_size):\n",
    "    context = x[:t + 1]\n",
    "    target = y[t]\n",
    "    print(f\"when input is {context} the target is: {target}\")"
   ]
  },
  {
   "cell_type": "code",
   "execution_count": 13,
   "metadata": {},
   "outputs": [
    {
     "name": "stdout",
     "output_type": "stream",
     "text": [
      "inputs: \n",
      "torch.Size([4, 8])\n",
      "tensor([[24, 43, 58,  5, 57,  1, 46, 43],\n",
      "        [44, 53, 56,  1, 58, 46, 39, 58],\n",
      "        [52, 58,  1, 58, 46, 39, 58,  1],\n",
      "        [25, 17, 27, 10,  0, 21,  1, 54]])\n",
      "targets: \n",
      "torch.Size([4, 8])\n",
      "tensor([[43, 58,  5, 57,  1, 46, 43, 39],\n",
      "        [53, 56,  1, 58, 46, 39, 58,  1],\n",
      "        [58,  1, 58, 46, 39, 58,  1, 46],\n",
      "        [17, 27, 10,  0, 21,  1, 54, 39]])\n",
      "-----\n",
      "when input is [24] the target is: 43\n",
      "when input is [24, 43] the target is: 58\n",
      "when input is [24, 43, 58] the target is: 5\n",
      "when input is [24, 43, 58, 5] the target is: 57\n",
      "when input is [24, 43, 58, 5, 57] the target is: 1\n",
      "when input is [24, 43, 58, 5, 57, 1] the target is: 46\n",
      "when input is [24, 43, 58, 5, 57, 1, 46] the target is: 43\n",
      "when input is [24, 43, 58, 5, 57, 1, 46, 43] the target is: 39\n",
      "when input is [44] the target is: 53\n",
      "when input is [44, 53] the target is: 56\n",
      "when input is [44, 53, 56] the target is: 1\n",
      "when input is [44, 53, 56, 1] the target is: 58\n",
      "when input is [44, 53, 56, 1, 58] the target is: 46\n",
      "when input is [44, 53, 56, 1, 58, 46] the target is: 39\n",
      "when input is [44, 53, 56, 1, 58, 46, 39] the target is: 58\n",
      "when input is [44, 53, 56, 1, 58, 46, 39, 58] the target is: 1\n",
      "when input is [52] the target is: 58\n",
      "when input is [52, 58] the target is: 1\n",
      "when input is [52, 58, 1] the target is: 58\n",
      "when input is [52, 58, 1, 58] the target is: 46\n",
      "when input is [52, 58, 1, 58, 46] the target is: 39\n",
      "when input is [52, 58, 1, 58, 46, 39] the target is: 58\n",
      "when input is [52, 58, 1, 58, 46, 39, 58] the target is: 1\n",
      "when input is [52, 58, 1, 58, 46, 39, 58, 1] the target is: 46\n",
      "when input is [25] the target is: 17\n",
      "when input is [25, 17] the target is: 27\n",
      "when input is [25, 17, 27] the target is: 10\n",
      "when input is [25, 17, 27, 10] the target is: 0\n",
      "when input is [25, 17, 27, 10, 0] the target is: 21\n",
      "when input is [25, 17, 27, 10, 0, 21] the target is: 1\n",
      "when input is [25, 17, 27, 10, 0, 21, 1] the target is: 54\n",
      "when input is [25, 17, 27, 10, 0, 21, 1, 54] the target is: 39\n"
     ]
    }
   ],
   "source": [
    "torch.manual_seed(1337)\n",
    "\n",
    "batch_size = 4\n",
    "block_size = 8\n",
    "\n",
    "def get_batch(split):\n",
    "    data = train_data if split == \"train\" else val_data\n",
    "    ix = torch.randint(len(data) - block_size, (batch_size,))\n",
    "    x = torch.stack([data[i: i + block_size] for i in ix])\n",
    "    y = torch.stack([data[i + 1: i + block_size + 1] for i in ix])\n",
    "    return x, y\n",
    "\n",
    "xb, yb = get_batch(\"train\")\n",
    "print(\"inputs: \")\n",
    "print(xb.shape)\n",
    "print(xb)\n",
    "print(\"targets: \")\n",
    "print(yb.shape)\n",
    "print(yb)\n",
    "print(\"-----\")\n",
    "for b in range(batch_size):\n",
    "    for t in range(block_size):\n",
    "        context = xb[b, :t + 1]\n",
    "        target = yb[b, t]\n",
    "        print(f\"when input is {context.tolist()} the target is: {target}\")"
   ]
  },
  {
   "cell_type": "code",
   "execution_count": 14,
   "metadata": {},
   "outputs": [
    {
     "name": "stdout",
     "output_type": "stream",
     "text": [
      "torch.Size([32, 65])\n",
      "tensor(4.8786, grad_fn=<NllLossBackward0>)\n",
      "\n",
      "SKIcLT;AcELMoTbvZv C?nq-QE33:CJqkOKH-q;:la!oiywkHjgChzbQ?u!3bLIgwevmyFJGUGp\n",
      "wnYWmnxKWWev-tDqXErVKLgJ\n"
     ]
    }
   ],
   "source": [
    "import torch\n",
    "import torch.nn\n",
    "from torch.nn import functional as F\n",
    "torch.manual_seed(1337)\n",
    "\n",
    "class BigramModel(torch.nn.Module):\n",
    "    def __init__(self, vocab_size):\n",
    "        super().__init__()\n",
    "        self.token_embedding_table = torch.nn.Embedding(vocab_size, vocab_size)\n",
    "\n",
    "    def forward(self, idx, targets=None):\n",
    "        logits = self.token_embedding_table(idx)\n",
    "\n",
    "        if targets is None:\n",
    "            loss = None\n",
    "        else:\n",
    "            B, T, C = logits.shape\n",
    "            logits = logits.view(B * T, C)\n",
    "            targets = targets.view(B * T)\n",
    "            loss = F.cross_entropy(logits, targets)\n",
    "        return logits, loss\n",
    "    \n",
    "    def generate(self, idx, max_new_tokens):\n",
    "        for _ in range(max_new_tokens):\n",
    "            logits, _ = self(idx)\n",
    "            logits = logits[:, -1, :]\n",
    "            probs = F.softmax(logits, dim=-1)\n",
    "            idx_next = torch.multinomial(probs, num_samples=1)\n",
    "            idx = torch.cat((idx, idx_next), dim=1)\n",
    "        return idx\n",
    "    \n",
    "m = BigramModel(vocab_size)\n",
    "logits, loss = m(xb, yb)\n",
    "print(logits.shape)\n",
    "print(loss)\n",
    "idx = torch.zeros((1, 1), dtype=torch.long)\n",
    "print(decode(m.generate(idx, max_new_tokens=100)[0].tolist()))"
   ]
  },
  {
   "cell_type": "code",
   "execution_count": 15,
   "metadata": {},
   "outputs": [],
   "source": [
    "optimizer = torch.optim.AdamW(m.parameters(), lr=1e-3)"
   ]
  },
  {
   "cell_type": "code",
   "execution_count": 16,
   "metadata": {},
   "outputs": [
    {
     "name": "stdout",
     "output_type": "stream",
     "text": [
      "step 0: loss = 4.692410945892334\n",
      "step 1000: loss = 3.7637593746185303\n",
      "step 2000: loss = 3.2342257499694824\n",
      "step 3000: loss = 2.892245292663574\n",
      "step 4000: loss = 2.703908681869507\n",
      "step 5000: loss = 2.515348434448242\n",
      "step 6000: loss = 2.4889943599700928\n",
      "step 7000: loss = 2.514069080352783\n",
      "step 8000: loss = 2.444497585296631\n",
      "step 9000: loss = 2.3975775241851807\n"
     ]
    }
   ],
   "source": [
    "batch_size = 32\n",
    "for steps in range(10000):\n",
    "    xb, yb = get_batch(\"train\")\n",
    "    logits, loss = m(xb, yb)\n",
    "    optimizer.zero_grad(set_to_none=True)\n",
    "    loss.backward()\n",
    "    optimizer.step()\n",
    "    if steps % 1000 == 0:\n",
    "        print(f\"step {steps}: loss = {loss.item()}\")"
   ]
  },
  {
   "cell_type": "code",
   "execution_count": 17,
   "metadata": {},
   "outputs": [
    {
     "name": "stdout",
     "output_type": "stream",
     "text": [
      "\n",
      "lso br. ave aviasurf my, yxMPZI ivee iuedrd whar ksth y h bora s be hese, woweee; the! KI 'de, ulsee\n"
     ]
    }
   ],
   "source": [
    "print(decode(m.generate(idx, max_new_tokens=100)[0].tolist()))\n"
   ]
  },
  {
   "cell_type": "code",
   "execution_count": 19,
   "metadata": {},
   "outputs": [
    {
     "data": {
      "text/plain": [
       "torch.Size([4, 8, 2])"
      ]
     },
     "execution_count": 19,
     "metadata": {},
     "output_type": "execute_result"
    }
   ],
   "source": [
    "torch.manual_seed(1337)\n",
    "B, T, C = 4, 8, 2\n",
    "x = torch.randn(B, T, C)\n",
    "x.shape"
   ]
  },
  {
   "cell_type": "code",
   "execution_count": 24,
   "metadata": {},
   "outputs": [],
   "source": [
    "xbow = torch.zeros((B, T, C))\n",
    "for b in range(B):\n",
    "    for t in range(T):\n",
    "        xprev = x[b, :t + 1]\n",
    "        xbow[b, t] = torch.mean(xprev, 0)"
   ]
  },
  {
   "cell_type": "code",
   "execution_count": 40,
   "metadata": {},
   "outputs": [
    {
     "data": {
      "text/plain": [
       "True"
      ]
     },
     "execution_count": 40,
     "metadata": {},
     "output_type": "execute_result"
    }
   ],
   "source": [
    "wei = torch.tril(torch.ones(T, T))\n",
    "wei = wei / wei.sum(1, keepdim=True)    \n",
    "\n",
    "xbow2 = wei @ x\n",
    "torch.allclose(xbow, xbow2)"
   ]
  },
  {
   "cell_type": "code",
   "execution_count": 46,
   "metadata": {},
   "outputs": [
    {
     "data": {
      "text/plain": [
       "True"
      ]
     },
     "execution_count": 46,
     "metadata": {},
     "output_type": "execute_result"
    }
   ],
   "source": [
    "wei = F.softmax(torch.log(torch.tril(torch.ones(T, T))), dim=-1)\n",
    "xbow3 = wei @ x\n",
    "torch.allclose(xbow, xbow3)\n",
    "\n"
   ]
  },
  {
   "cell_type": "code",
   "execution_count": 61,
   "metadata": {},
   "outputs": [
    {
     "name": "stdout",
     "output_type": "stream",
     "text": [
      "tensor(0.4224, grad_fn=<VarBackward0>)\n",
      "tensor([[[ 2.7747e-01,  1.9518e-01, -2.5265e-01,  2.0125e-01, -1.1090e-01,\n",
      "           1.2164e-01,  2.1742e-01, -2.5426e-01,  8.0074e-02,  1.2349e-01,\n",
      "           2.7120e-01,  6.5797e-02,  7.2533e-02,  3.1890e-03, -1.4124e-01,\n",
      "           2.5428e-01],\n",
      "         [ 8.3550e-01,  5.7700e-01, -7.8150e-01,  1.0533e+00, -1.1032e+00,\n",
      "           1.4705e+00,  3.2900e-01, -1.1624e+00,  4.0078e-01,  2.0371e-01,\n",
      "           2.5173e-01,  1.1173e+00,  4.6412e-01, -7.0802e-01, -6.6999e-01,\n",
      "           2.9895e-01],\n",
      "         [-2.8857e-02, -1.5722e-02,  3.5115e-02, -2.1176e-01,  3.3972e-01,\n",
      "          -4.8375e-01,  1.1634e-01,  1.9571e-01, -7.6449e-02,  5.8889e-02,\n",
      "           2.1280e-01, -3.9902e-01, -1.1237e-01,  3.0584e-01,  1.1909e-01,\n",
      "           1.7268e-01],\n",
      "         [-2.2137e-01, -1.4794e-01,  2.1660e-01, -4.8494e-01,  6.4632e-01,\n",
      "          -8.9781e-01,  6.2716e-02,  4.9058e-01, -1.7968e-01,  2.3405e-02,\n",
      "           1.9328e-01, -7.1910e-01, -2.3605e-01,  5.1787e-01,  2.9014e-01,\n",
      "           1.3560e-01],\n",
      "         [-2.3841e-01, -1.4954e-01,  2.5217e-01, -9.3032e-01,  1.3978e+00,\n",
      "          -1.9743e+00,  3.6467e-01,  8.9029e-01, -3.3917e-01,  1.7860e-01,\n",
      "           7.2351e-01, -1.6131e+00, -4.7838e-01,  1.2124e+00,  5.3572e-01,\n",
      "           5.7184e-01],\n",
      "         [ 1.3876e+00,  9.6519e-01, -1.2845e+00,  1.4609e+00, -1.3361e+00,\n",
      "           1.7302e+00,  7.5639e-01, -1.6746e+00,  5.6266e-01,  4.4672e-01,\n",
      "           7.8230e-01,  1.2630e+00,  6.1237e-01, -7.1316e-01, -9.5493e-01,\n",
      "           7.9742e-01],\n",
      "         [ 2.9542e-01,  2.0621e-01, -2.7210e-01,  2.8115e-01, -2.3308e-01,\n",
      "           2.9461e-01,  1.8279e-01, -3.3004e-01,  1.0913e-01,  1.0634e-01,\n",
      "           2.0429e-01,  2.0749e-01,  1.1396e-01, -1.0390e-01, -1.8696e-01,\n",
      "           2.0095e-01],\n",
      "         [ 4.7092e-01,  3.4381e-01, -4.0460e-01, -1.8111e-01,  7.1068e-01,\n",
      "          -1.0839e+00,  7.4958e-01,  3.2081e-02, -5.0677e-02,  4.0605e-01,\n",
      "           1.1204e+00, -9.6248e-01, -1.6402e-01,  8.4399e-01,  4.6237e-02,\n",
      "           9.7697e-01]],\n",
      "\n",
      "        [[-1.1329e+00, -7.8878e-01,  1.0473e+00, -1.1610e+00,  1.0363e+00,\n",
      "          -1.3343e+00, -6.4065e-01,  1.3391e+00, -4.4806e-01, -3.7664e-01,\n",
      "          -6.7877e-01, -9.6594e-01, -4.8253e-01,  5.3135e-01,  7.6229e-01,\n",
      "          -6.8415e-01],\n",
      "         [-1.8458e-01, -1.0780e-01,  2.1064e-01, -1.0528e+00,  1.6541e+00,\n",
      "          -2.3495e+00,  5.2446e-01,  9.8424e-01, -3.8130e-01,  2.6327e-01,\n",
      "           9.8012e-01, -1.9322e+00, -5.5304e-01,  1.4722e+00,  5.9668e-01,\n",
      "           7.8972e-01],\n",
      "         [ 3.2092e+00,  2.2103e+00, -3.0133e+00,  4.2955e+00, -4.6668e+00,\n",
      "           6.2647e+00,  1.0818e+00, -4.6862e+00,  1.6286e+00,  6.8854e-01,\n",
      "           6.5147e-01,  4.8050e+00,  1.9199e+00, -3.1202e+00, -2.7101e+00,\n",
      "           8.8762e-01],\n",
      "         [-1.1213e+00, -7.6763e-01,  1.0618e+00, -1.6936e+00,  1.9621e+00,\n",
      "          -2.6647e+00, -2.3764e-01,  1.8083e+00, -6.3782e-01, -1.6812e-01,\n",
      "           1.5812e-02, -2.0750e+00, -7.7668e-01,  1.3994e+00,  1.0523e+00,\n",
      "          -1.0900e-01],\n",
      "         [ 2.6709e+00,  1.8249e+00, -2.5363e+00,  4.1871e+00, -4.9367e+00,\n",
      "           6.7250e+00,  4.5473e-01, -4.4432e+00,  1.5739e+00,  3.4300e-01,\n",
      "          -2.3077e-01,  5.2569e+00,  1.9341e+00, -3.5789e+00, -2.5904e+00,\n",
      "           1.0009e-01],\n",
      "         [ 3.0288e+00,  2.0792e+00, -2.8573e+00,  4.3412e+00, -4.8983e+00,\n",
      "           6.6215e+00,  8.1199e-01, -4.6776e+00,  1.6395e+00,  5.4193e-01,\n",
      "           2.5227e-01,  5.1250e+00,  1.9697e+00, -3.4055e+00, -2.7149e+00,\n",
      "           5.3816e-01],\n",
      "         [ 6.6475e-01,  4.4023e-01, -6.5818e-01,  1.6237e+00, -2.2289e+00,\n",
      "           3.1096e+00, -3.1032e-01, -1.6217e+00,  5.9934e-01, -1.3326e-01,\n",
      "          -7.9198e-01,  2.5037e+00,  8.0087e-01, -1.8239e+00, -9.6291e-01,\n",
      "          -5.8200e-01],\n",
      "         [-1.0334e-01, -3.6505e-02,  1.6397e-01, -1.5834e+00,  2.6356e+00,\n",
      "          -3.7693e+00,  1.0174e+00,  1.4327e+00, -5.6831e-01,  5.2104e-01,\n",
      "           1.8041e+00, -3.1246e+00, -8.5567e-01,  2.4190e+00,  8.7787e-01,\n",
      "           1.4794e+00]],\n",
      "\n",
      "        [[ 2.2445e-01,  1.6155e-01, -1.9730e-01,  1.0002e-02,  1.7307e-01,\n",
      "          -2.7881e-01,  2.8713e-01, -7.0148e-02,  1.0230e-02,  1.5733e-01,\n",
      "           4.1235e-01, -2.6079e-01, -2.5262e-02,  2.4773e-01, -3.0658e-02,\n",
      "           3.6513e-01],\n",
      "         [-9.8076e-01, -6.7262e-01,  9.2645e-01, -1.4323e+00,  1.6318e+00,\n",
      "          -2.2096e+00, -2.4361e-01,  1.5382e+00, -5.4037e-01, -1.6551e-01,\n",
      "          -4.8178e-02, -1.7141e+00, -6.5239e-01,  1.1453e+00,  8.9362e-01,\n",
      "          -1.4657e-01],\n",
      "         [-6.0472e-01, -4.0378e-01,  5.9234e-01, -1.3391e+00,  1.7903e+00,\n",
      "          -2.4881e+00,  1.8181e-01,  1.3529e+00, -4.9595e-01,  6.9350e-02,\n",
      "           5.4616e-01, -1.9939e+00, -6.5273e-01,  1.4377e+00,  8.0044e-01,\n",
      "           3.8543e-01],\n",
      "         [ 6.0319e-01,  4.2327e-01, -5.5125e-01,  4.8081e-01, -3.1555e-01,\n",
      "           3.7133e-01,  4.4112e-01, -5.9116e-01,  1.8953e-01,  2.5217e-01,\n",
      "           5.3487e-01,  2.3203e-01,  1.8147e-01, -6.2545e-02, -3.3073e-01,\n",
      "           5.0759e-01],\n",
      "         [ 3.6915e-01,  2.5545e-01, -3.4430e-01,  4.4404e-01, -4.5072e-01,\n",
      "           5.9704e-01,  1.6090e-01, -4.9465e-01,  1.6946e-01,  9.8023e-02,\n",
      "           1.3817e-01,  4.4983e-01,  1.9334e-01, -2.7860e-01, -2.8435e-01,\n",
      "           1.5435e-01],\n",
      "         [-2.2661e-01, -1.6277e-01,  1.9985e-01, -2.4147e-02, -1.5058e-01,\n",
      "           2.4682e-01, -2.7967e-01,  8.3286e-02, -1.5344e-02, -1.5356e-01,\n",
      "          -3.9858e-01,  2.3443e-01,  1.7788e-02, -2.2757e-01,  3.8640e-02,\n",
      "          -3.5399e-01],\n",
      "         [ 3.1493e-01,  2.3181e-01, -2.6693e-01, -1.9984e-01,  6.1066e-01,\n",
      "          -9.1921e-01,  5.5861e-01,  9.1284e-02, -6.1993e-02,  3.0114e-01,\n",
      "           8.4869e-01, -8.0545e-01, -1.5293e-01,  6.9073e-01,  7.3991e-02,\n",
      "           7.3551e-01],\n",
      "         [ 3.4734e-01,  2.4247e-01, -3.1988e-01,  3.2970e-01, -2.7257e-01,\n",
      "           3.4426e-01,  2.1554e-01, -3.8728e-01,  1.2800e-01,  1.2535e-01,\n",
      "           2.4127e-01,  2.4219e-01,  1.3352e-01, -1.2078e-01, -2.1935e-01,\n",
      "           2.3716e-01]],\n",
      "\n",
      "        [[-3.6897e+00, -2.6369e+00,  3.2796e+00, -9.4709e-01, -1.4990e+00,\n",
      "           2.6511e+00, -4.1501e+00,  1.8474e+00, -4.4756e-01, -2.2920e+00,\n",
      "          -5.7900e+00,  2.6785e+00, -1.4676e-02, -2.8165e+00,  9.3216e-01,\n",
      "          -5.1856e+00],\n",
      "         [-3.2792e+00, -2.3452e+00,  2.9116e+00, -7.7404e-01, -1.4487e+00,\n",
      "           2.5233e+00, -3.7378e+00,  1.5818e+00, -3.7361e-01, -2.0625e+00,\n",
      "          -5.2314e+00,  2.5196e+00,  2.4144e-02, -2.6118e+00,  7.9143e-01,\n",
      "          -4.6794e+00],\n",
      "         [ 3.5965e+00,  2.5302e+00, -3.2744e+00,  2.5987e+00, -1.4202e+00,\n",
      "           1.5520e+00,  2.8255e+00, -3.2869e+00,  1.0344e+00,  1.6044e+00,\n",
      "           3.5279e+00,  8.3233e-01,  9.3468e-01,  5.7369e-02, -1.8253e+00,\n",
      "           3.3064e+00],\n",
      "         [-4.6499e+00, -3.3177e+00,  4.1439e+00, -1.4250e+00, -1.4911e+00,\n",
      "           2.7697e+00, -5.0617e+00,  2.5335e+00, -6.4667e-01, -2.8015e+00,\n",
      "          -7.0046e+00,  2.8999e+00, -1.4565e-01, -3.1782e+00,  1.3014e+00,\n",
      "          -6.2937e+00],\n",
      "         [-3.6632e+00, -2.6209e+00,  3.2507e+00, -8.2214e-01, -1.6915e+00,\n",
      "           2.9239e+00, -4.2065e+00,  1.7293e+00, -4.0217e-01, -2.3200e+00,\n",
      "          -5.8978e+00,  2.9022e+00,  5.0342e-02, -2.9860e+00,  8.6084e-01,\n",
      "          -5.2718e+00],\n",
      "         [-2.6569e+00, -1.9057e+00,  2.3484e+00, -3.9748e-01, -1.5687e+00,\n",
      "           2.6114e+00, -3.1956e+00,  1.0779e+00, -2.2072e-01, -1.7574e+00,\n",
      "          -4.5286e+00,  2.5134e+00,  1.4572e-01, -2.4846e+00,  5.1559e-01,\n",
      "          -4.0309e+00],\n",
      "         [-1.5744e+00, -1.1327e+00,  1.3850e+00, -9.2854e-02, -1.1750e+00,\n",
      "           1.8997e+00, -1.9975e+00,  5.1218e-01, -7.9860e-02, -1.0950e+00,\n",
      "          -2.8637e+00,  1.7826e+00,  1.6473e-01, -1.7012e+00,  2.2747e-01,\n",
      "          -2.5375e+00],\n",
      "         [-3.5599e+00, -2.5438e+00,  3.1651e+00, -9.3009e-01, -1.4183e+00,\n",
      "           2.5177e+00, -3.9924e+00,  1.7969e+00, -4.3764e-01, -2.2053e+00,\n",
      "          -5.5658e+00,  2.5508e+00, -2.3113e-02, -2.6914e+00,  9.0831e-01,\n",
      "          -4.9863e+00]]], grad_fn=<MulBackward0>)\n",
      "tensor(3.4345, grad_fn=<VarBackward0>)\n"
     ]
    }
   ],
   "source": [
    "head_size = 16\n",
    "key = torch.nn.Linear(C, head_size, bias=False)\n",
    "query = torch.nn.Linear(C, head_size, bias=False)\n",
    "value = torch.nn.Linear(C, head_size, bias=False)\n",
    "k = key(x)\n",
    "q = query(x)\n",
    "\n",
    "wei = q @ k.transpose(-2, -1)\n",
    "wei.masked_fill(torch.tril(torch.ones(T, T)) == 0, float(\"-inf\"))\n",
    "wei = F.softmax(wei, dim=-1)\n",
    "out = wei @ value(x) * (head_size ** 0.5)\n",
    "print(value(x).var())\n",
    "print(out)\n",
    "print(out.var())"
   ]
  }
 ],
 "metadata": {
  "kernelspec": {
   "display_name": "gpt",
   "language": "python",
   "name": "python3"
  },
  "language_info": {
   "codemirror_mode": {
    "name": "ipython",
    "version": 3
   },
   "file_extension": ".py",
   "mimetype": "text/x-python",
   "name": "python",
   "nbconvert_exporter": "python",
   "pygments_lexer": "ipython3",
   "version": "3.12.4"
  }
 },
 "nbformat": 4,
 "nbformat_minor": 2
}
